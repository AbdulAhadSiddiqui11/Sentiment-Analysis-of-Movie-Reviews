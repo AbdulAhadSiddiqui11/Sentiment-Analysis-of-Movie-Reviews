{
  "nbformat": 4,
  "nbformat_minor": 0,
  "metadata": {
    "colab": {
      "name": "imdb.ipynb",
      "provenance": [],
      "collapsed_sections": [],
      "include_colab_link": true
    },
    "kernelspec": {
      "name": "python3",
      "display_name": "Python 3"
    },
    "accelerator": "GPU"
  },
  "cells": [
    {
      "cell_type": "markdown",
      "metadata": {
        "id": "view-in-github",
        "colab_type": "text"
      },
      "source": [
        "<a href=\"https://colab.research.google.com/github/TausifAnsari/movie-review-classification/blob/master/imdb.ipynb\" target=\"_parent\"><img src=\"https://colab.research.google.com/assets/colab-badge.svg\" alt=\"Open In Colab\"/></a>"
      ]
    },
    {
      "cell_type": "code",
      "metadata": {
        "id": "c5d5osbhatvh",
        "colab_type": "code",
        "outputId": "fa5af9e4-bc8d-4705-84c1-94cd75b27b03",
        "colab": {
          "base_uri": "https://localhost:8080/",
          "height": 252
        }
      },
      "source": [
        "# Building a Model\n",
        "from tensorflow import keras\n",
        "from keras import models\n",
        "from keras import layers\n",
        "\n",
        "model = models.Sequential()\n",
        "model.add(layers.Dense(16, activation='relu', input_shape=(10000,)))\n",
        "model.add(layers.Dense(16, activation='relu'))\n",
        "model.add(layers.Dense(1, activation='sigmoid'))\n",
        "model.summary()"
      ],
      "execution_count": 0,
      "outputs": [
        {
          "output_type": "stream",
          "text": [
            "Model: \"sequential_2\"\n",
            "_________________________________________________________________\n",
            "Layer (type)                 Output Shape              Param #   \n",
            "=================================================================\n",
            "dense_4 (Dense)              (None, 16)                160016    \n",
            "_________________________________________________________________\n",
            "dense_5 (Dense)              (None, 16)                272       \n",
            "_________________________________________________________________\n",
            "dense_6 (Dense)              (None, 1)                 17        \n",
            "=================================================================\n",
            "Total params: 160,305\n",
            "Trainable params: 160,305\n",
            "Non-trainable params: 0\n",
            "_________________________________________________________________\n"
          ],
          "name": "stdout"
        }
      ]
    },
    {
      "cell_type": "code",
      "metadata": {
        "id": "eL99YUt0Uh89",
        "colab_type": "code",
        "outputId": "a32fe4fb-ae23-41b1-e722-9062d7c39522",
        "colab": {
          "base_uri": "https://localhost:8080/",
          "height": 1000
        }
      },
      "source": [
        "# Training the model\n",
        "\n",
        "from keras.datasets import imdb\n",
        "from keras import losses\n",
        "from keras import metrics\n",
        "from keras import optimizers\n",
        "import numpy as np\n",
        "\n",
        "# Loading imdb data in training and testing variables, num_words argument keeps top 10000 frequently occuring words in training data\n",
        "(train_data, train_labels), (test_data, test_labels) = imdb.load_data(num_words = 10000)\n",
        "\n",
        "def vectorize_sequences(sequences, dimension=10000):\n",
        "    '''Vectorize functon to vectorize training and testing data'''\n",
        "    results = np.zeros((len(sequences), dimension))  # Creates a zero matrix of shape (len(sequences),dimensions)\n",
        "    for i, sequence in enumerate(sequences):\n",
        "      results[i, sequence] = 1.                      # Sets specific indices of results[i] to '1'\n",
        "    return results\n",
        "\n",
        "x_train = vectorize_sequences(train_data)            # Vectorize training data\n",
        "x_test = vectorize_sequences(test_data)              # Vectorize testing data\n",
        "\n",
        "y_train = np.asarray(train_labels).astype('float32') # Vectorize training labels\n",
        "y_test = np.asarray(test_labels).astype('float32')   # Vectorize testing labels\n",
        "\n",
        "x_val = x_train[:10000]\n",
        "partial_x_train = x_train[10000:]\n",
        "\n",
        "y_val = y_train[:10000]\n",
        "partial_y_train = y_train[10000:]\n",
        "\n",
        "\n",
        "\n",
        "\n",
        "model.compile(optimizer=optimizers.RMSprop(lr=0.001),\n",
        "              loss=losses.binary_crossentropy,\n",
        "              metrics=[metrics.binary_accuracy])    # Compiling  model\n",
        "\n",
        "history = model.fit(x_train,\n",
        "                    y_train,\n",
        "                    epochs=20,\n",
        "                    batch_size=512,\n",
        "                    validation_data=(x_val, y_val)) # Training model"
      ],
      "execution_count": 0,
      "outputs": [
        {
          "output_type": "stream",
          "text": [
            "WARNING:tensorflow:From /usr/local/lib/python3.6/dist-packages/keras/optimizers.py:793: The name tf.train.Optimizer is deprecated. Please use tf.compat.v1.train.Optimizer instead.\n",
            "\n",
            "WARNING:tensorflow:From /usr/local/lib/python3.6/dist-packages/keras/backend/tensorflow_backend.py:3657: The name tf.log is deprecated. Please use tf.math.log instead.\n",
            "\n",
            "WARNING:tensorflow:From /usr/local/lib/python3.6/dist-packages/tensorflow_core/python/ops/nn_impl.py:183: where (from tensorflow.python.ops.array_ops) is deprecated and will be removed in a future version.\n",
            "Instructions for updating:\n",
            "Use tf.where in 2.0, which has the same broadcast rule as np.where\n",
            "WARNING:tensorflow:From /usr/local/lib/python3.6/dist-packages/keras/backend/tensorflow_backend.py:1033: The name tf.assign_add is deprecated. Please use tf.compat.v1.assign_add instead.\n",
            "\n",
            "WARNING:tensorflow:From /usr/local/lib/python3.6/dist-packages/keras/backend/tensorflow_backend.py:1020: The name tf.assign is deprecated. Please use tf.compat.v1.assign instead.\n",
            "\n",
            "WARNING:tensorflow:From /usr/local/lib/python3.6/dist-packages/keras/backend/tensorflow_backend.py:3005: The name tf.Session is deprecated. Please use tf.compat.v1.Session instead.\n",
            "\n",
            "Train on 25000 samples, validate on 10000 samples\n",
            "Epoch 1/20\n",
            "WARNING:tensorflow:From /usr/local/lib/python3.6/dist-packages/keras/backend/tensorflow_backend.py:190: The name tf.get_default_session is deprecated. Please use tf.compat.v1.get_default_session instead.\n",
            "\n",
            "WARNING:tensorflow:From /usr/local/lib/python3.6/dist-packages/keras/backend/tensorflow_backend.py:197: The name tf.ConfigProto is deprecated. Please use tf.compat.v1.ConfigProto instead.\n",
            "\n",
            "WARNING:tensorflow:From /usr/local/lib/python3.6/dist-packages/keras/backend/tensorflow_backend.py:207: The name tf.global_variables is deprecated. Please use tf.compat.v1.global_variables instead.\n",
            "\n",
            "WARNING:tensorflow:From /usr/local/lib/python3.6/dist-packages/keras/backend/tensorflow_backend.py:216: The name tf.is_variable_initialized is deprecated. Please use tf.compat.v1.is_variable_initialized instead.\n",
            "\n",
            "WARNING:tensorflow:From /usr/local/lib/python3.6/dist-packages/keras/backend/tensorflow_backend.py:223: The name tf.variables_initializer is deprecated. Please use tf.compat.v1.variables_initializer instead.\n",
            "\n",
            "25000/25000 [==============================] - 8s 325us/step - loss: 0.4611 - binary_accuracy: 0.8298 - val_loss: 0.2953 - val_binary_accuracy: 0.9100\n",
            "Epoch 2/20\n",
            "25000/25000 [==============================] - 3s 114us/step - loss: 0.2660 - binary_accuracy: 0.9082 - val_loss: 0.2009 - val_binary_accuracy: 0.9382\n",
            "Epoch 3/20\n",
            "25000/25000 [==============================] - 3s 115us/step - loss: 0.2024 - binary_accuracy: 0.9296 - val_loss: 0.1588 - val_binary_accuracy: 0.9505\n",
            "Epoch 4/20\n",
            "25000/25000 [==============================] - 3s 114us/step - loss: 0.1674 - binary_accuracy: 0.9414 - val_loss: 0.1296 - val_binary_accuracy: 0.9623\n",
            "Epoch 5/20\n",
            "25000/25000 [==============================] - 3s 115us/step - loss: 0.1419 - binary_accuracy: 0.9505 - val_loss: 0.1333 - val_binary_accuracy: 0.9525\n",
            "Epoch 6/20\n",
            "25000/25000 [==============================] - 3s 115us/step - loss: 0.1225 - binary_accuracy: 0.9586 - val_loss: 0.0927 - val_binary_accuracy: 0.9738\n",
            "Epoch 7/20\n",
            "25000/25000 [==============================] - 3s 116us/step - loss: 0.1052 - binary_accuracy: 0.9662 - val_loss: 0.0897 - val_binary_accuracy: 0.9727\n",
            "Epoch 8/20\n",
            "25000/25000 [==============================] - 3s 114us/step - loss: 0.0920 - binary_accuracy: 0.9698 - val_loss: 0.0653 - val_binary_accuracy: 0.9840\n",
            "Epoch 9/20\n",
            "25000/25000 [==============================] - 3s 115us/step - loss: 0.0798 - binary_accuracy: 0.9747 - val_loss: 0.0564 - val_binary_accuracy: 0.9864\n",
            "Epoch 10/20\n",
            "25000/25000 [==============================] - 3s 113us/step - loss: 0.0668 - binary_accuracy: 0.9803 - val_loss: 0.0460 - val_binary_accuracy: 0.9900\n",
            "Epoch 11/20\n",
            "25000/25000 [==============================] - 3s 114us/step - loss: 0.0559 - binary_accuracy: 0.9841 - val_loss: 0.0512 - val_binary_accuracy: 0.9867\n",
            "Epoch 12/20\n",
            "25000/25000 [==============================] - 3s 114us/step - loss: 0.0439 - binary_accuracy: 0.9892 - val_loss: 0.0346 - val_binary_accuracy: 0.9924\n",
            "Epoch 13/20\n",
            "25000/25000 [==============================] - 3s 115us/step - loss: 0.0390 - binary_accuracy: 0.9893 - val_loss: 0.0247 - val_binary_accuracy: 0.9952\n",
            "Epoch 14/20\n",
            "25000/25000 [==============================] - 3s 113us/step - loss: 0.0291 - binary_accuracy: 0.9931 - val_loss: 0.0186 - val_binary_accuracy: 0.9972\n",
            "Epoch 15/20\n",
            "25000/25000 [==============================] - 3s 115us/step - loss: 0.0249 - binary_accuracy: 0.9942 - val_loss: 0.0142 - val_binary_accuracy: 0.9976\n",
            "Epoch 16/20\n",
            "25000/25000 [==============================] - 3s 114us/step - loss: 0.0185 - binary_accuracy: 0.9961 - val_loss: 0.0133 - val_binary_accuracy: 0.9979\n",
            "Epoch 17/20\n",
            "25000/25000 [==============================] - 3s 115us/step - loss: 0.0144 - binary_accuracy: 0.9971 - val_loss: 0.0073 - val_binary_accuracy: 0.9991\n",
            "Epoch 18/20\n",
            "25000/25000 [==============================] - 3s 112us/step - loss: 0.0140 - binary_accuracy: 0.9964 - val_loss: 0.0066 - val_binary_accuracy: 0.9994\n",
            "Epoch 19/20\n",
            "25000/25000 [==============================] - 3s 114us/step - loss: 0.0060 - binary_accuracy: 0.9996 - val_loss: 0.0091 - val_binary_accuracy: 0.9991\n",
            "Epoch 20/20\n",
            "25000/25000 [==============================] - 3s 113us/step - loss: 0.0079 - binary_accuracy: 0.9984 - val_loss: 0.0030 - val_binary_accuracy: 0.9996\n"
          ],
          "name": "stdout"
        }
      ]
    },
    {
      "cell_type": "code",
      "metadata": {
        "id": "MwJ1ZFtn1bsB",
        "colab_type": "code",
        "outputId": "03f7523b-876f-4e45-b601-56be997afd48",
        "colab": {
          "base_uri": "https://localhost:8080/",
          "height": 54
        }
      },
      "source": [
        "# Decoding the review in English Sentence\n",
        "\n",
        "word_index = imdb.get_word_index()\n",
        "reverse_word_index = dict([(value, key) for (key, value) in word_index.items()])\n",
        "decoded_review = ' '.join([reverse_word_index.get(i - 3, '?') for i in train_data[0]])\n",
        "print(decoded_review.replace('?',''))"
      ],
      "execution_count": 0,
      "outputs": [
        {
          "output_type": "stream",
          "text": [
            " this film was just brilliant casting location scenery story direction everyone's really suited the part they played and you could just imagine being there robert  is an amazing actor and now the same being director  father came from the same scottish island as myself so i loved the fact there was a real connection with this film the witty remarks throughout the film were great it was just brilliant so much that i bought the film as soon as it was released for  and would recommend it to everyone to watch and the fly fishing was amazing really cried at the end it was so sad and you know what they say if you cry at a film it must have been good and this definitely was also  to the two little boy's that played the  of norman and paul they were just brilliant children are often left out of the  list i think because the stars that play them all grown up are such a big profile for the whole film but these children are amazing and should be praised for what they have done don't you think the whole story was so lovely because it was true and was someone's life after all that was shared with us all\n"
          ],
          "name": "stdout"
        }
      ]
    },
    {
      "cell_type": "code",
      "metadata": {
        "id": "mHb2R4nifcIW",
        "colab_type": "code",
        "outputId": "13f2a06c-d4ce-4d94-ae3b-6b2fccc0f661",
        "colab": {
          "base_uri": "https://localhost:8080/",
          "height": 573
        }
      },
      "source": [
        "# Plotting binary accuracy, validation binary accuracy, loss, validation loss, \n",
        "import matplotlib.pyplot as plt\n",
        "\n",
        "acc = history.history['binary_accuracy']\n",
        "val_acc = history.history['val_binary_accuracy']\n",
        "loss = history.history['loss']\n",
        "val_loss = history.history['val_loss']\n",
        "\n",
        "epochs = range(1, len(acc) + 1)\n",
        "\n",
        "plt.plot(epochs, acc, 'bo', label='Training acc')\n",
        "plt.plot(epochs, val_acc, 'b', label='Validation acc')\n",
        "plt.title('Training and validation accuracy')\n",
        "plt.xlabel('Epochs')\n",
        "plt.ylabel('Loss')\n",
        "plt.legend()\n",
        "plt.figure()\n",
        "\n",
        "\n",
        "plt.plot(epochs, loss, 'go', label='Training loss')\n",
        "plt.plot(epochs, val_loss, 'g', label='Validation loss')\n",
        "plt.title('Training and validation loss')\n",
        "plt.xlabel('Epochs')\n",
        "plt.ylabel('Loss')\n",
        "plt.legend()\n",
        "plt.show()"
      ],
      "execution_count": 0,
      "outputs": [
        {
          "output_type": "display_data",
          "data": {
            "image/png": "[encoded data removed]",
            "text/plain": [
              "<Figure size 432x288 with 1 Axes>"
            ]
          },
          "metadata": {
            "tags": []
          }
        },
        {
          "output_type": "display_data",
          "data": {
            "image/png": "[encoded data removed]",
            "text/plain": [
              "<Figure size 432x288 with 1 Axes>"
            ]
          },
          "metadata": {
            "tags": []
          }
        }
      ]
    },
    {
      "cell_type": "code",
      "metadata": {
        "id": "CbW1E4J4hCqx",
        "colab_type": "code",
        "outputId": "443ebc68-b2b2-4063-ea0a-b06bf155feed",
        "colab": {
          "base_uri": "https://localhost:8080/",
          "height": 67
        }
      },
      "source": [
        "# Testing the trained model\n",
        "test_loss, test_accuracy = model.evaluate(x_test, y_test)\n",
        "\n",
        "print(\"Loss :\",test_loss)\n",
        "print(\"Accuracy :\",test_accuracy)"
      ],
      "execution_count": 0,
      "outputs": [
        {
          "output_type": "stream",
          "text": [
            "25000/25000 [==============================] - 2s 96us/step\n",
            "Loss : 0.7937614966785907\n",
            "Accuracy : 0.852\n"
          ],
          "name": "stdout"
        }
      ]
    },
    {
      "cell_type": "code",
      "metadata": {
        "id": "MdAyxSSMrMj1",
        "colab_type": "code",
        "colab": {}
      },
      "source": [
        "model.save('imdb_model.h5')"
      ],
      "execution_count": 0,
      "outputs": []
    },
    {
      "cell_type": "code",
      "metadata": {
        "id": "xxsYOEDktgnz",
        "colab_type": "code",
        "outputId": "067f232d-67ac-428c-ef82-66b48920c281",
        "colab": {
          "base_uri": "https://localhost:8080/",
          "height": 457
        }
      },
      "source": [
        "for i in range(1,6):\n",
        "  print(\"\\nReview : {}\".format(i))\n",
        "  word_index = imdb.get_word_index()\n",
        "  reverse_word_index = dict([(value, key) for (key, value) in word_index.items()])\n",
        "  decoded_review = ' '.join([reverse_word_index.get(i - 3, '?') for i in test_data[i]])\n",
        "  print(decoded_review.replace('?',''))\n",
        "\n",
        "  pred = model.predict(x_test)\n",
        "  example = pred[i][0]\n",
        "  result = round(example)\n",
        "  if(result == 0):\n",
        "    print(\"\\nReview is Negative\")\n",
        "  else:\n",
        "    print(\"\\nReview is positive\")\n"
      ],
      "execution_count": 60,
      "outputs": [
        {
          "output_type": "stream",
          "text": [
            "\n",
            "Review : 1\n",
            " this film requires a lot of patience because it focuses on mood and character development the plot is very simple and many of the scenes take place on the same set in frances  the sandy dennis character apartment but the film builds to a disturbing climax br br the characters create an atmosphere  with sexual tension and psychological  it's very interesting that robert altman directed this considering the style and structure of his other films still the trademark altman audio style is evident here and there i think what really makes this film work is the brilliant performance by sandy dennis it's definitely one of her darker characters but she plays it so perfectly and convincingly that it's scary michael burns does a good job as the mute young man regular altman player michael murphy has a small part the  moody set fits the content of the story very well in short this movie is a powerful study of loneliness sexual  and desperation be patient  up the atmosphere and pay attention to the wonderfully written script br br i praise robert altman this is one of his many films that deals with unconventional fascinating subject matter this film is disturbing but it's sincere and it's sure to  a strong emotional response from the viewer if you want to see an unusual film some might even say bizarre this is worth the time br br unfortunately it's very difficult to find in video stores you may have to buy it off the internet\n",
            "\n",
            "Review is positive\n",
            "\n",
            "Review : 2\n",
            " many animation buffs consider   the great forgotten genius of one special branch of the art puppet animation which he invented almost single  and as it happened almost accidentally as a young man  was more interested in  than the cinema but his  attempt to film two   fighting led to an unexpected breakthrough in film making when he realized he could  movement by  beetle  and  them one frame at a time this discovery led to the production of amazingly elaborate classic short the  revenge which he made in russia in  at a time when motion picture animation of all sorts was in its  br br the political  of the russian revolution caused  to move to paris where one of his first productions  was a dark political satire  known as  or the  who wanted a king a strain of black comedy can be found in almost all of films but here it is very dark indeed aimed more at grown ups who can appreciate the satirical aspects than children who would most likely find the climax  i'm middle aged and found it pretty  myself and indeed  of the film intended for english speaking viewers of the 1920s were given title cards filled with  and  in order to help  the sharp  of the finale br br our tale is set in a swamp the   where the citizens are unhappy with their government and have called a special session to see what they can do to improve matters they decide to   for a king the crowds are  animated in this opening sequence it couldn't have been easy to make so many frog puppets look alive simultaneously while  for his part is depicted as a  white  guy in the clouds who looks like he'd rather be taking a  when  sends them a tree like god who regards them the  decide that this is no improvement and demand a different king irritated  sends them a  br br delighted with this  looking new king who towers above them the  welcome him with a  of  dressed  the mayor steps forward to hand him the key to the  as  cameras record the event to everyone's horror the  promptly eats the mayor and then goes on a merry rampage  citizens at random a title card  reads news of the king's  throughout the kingdom when the now terrified  once more   for help he loses his temper and  their community with lightning  the moral of our story delivered by a hapless frog just before he is eaten is let well enough alone br br considering the time period when this startling little film was made and considering the fact that it was made by a russian  at the height of that  country's civil war it would be easy to see this as a  about those events  may or may not have had  turmoil in mind when he made  but whatever  his choice of material the film stands as a  tale of universal   could be the soviet union italy germany or japan in the 1930s or any country of any era that lets its guard down and is overwhelmed by  it's a fascinating film even a charming one in its macabre way but its message is no joke\n",
            "\n",
            "Review is positive\n",
            "\n",
            "Review : 3\n",
            " i generally love this type of movie however this time i found myself wanting to kick the screen since i can't do that i will just complain about it this was absolutely idiotic the things that happen with the dead kids are very cool but the alive people are absolute idiots i am a grown man pretty big and i can defend myself well however i would not do half the stuff the little girl does in this movie also the mother in this movie is reckless with her children to the point of neglect i wish i wasn't so angry about her and her actions because i would have otherwise enjoyed the flick what a number she was take my advise and fast forward through everything you see her do until the end also is anyone else getting sick of watching movies that are filmed so dark anymore one can hardly see what is being filmed as an audience we are  involved with the actions on the screen so then why the hell can't we have night vision\n",
            "\n",
            "Review is positive\n",
            "\n",
            "Review : 4\n",
            " like some other people wrote i'm a die hard mario fan and i loved this game br br this game starts slightly boring but trust me it's worth it as soon as you start your hooked the levels are fun and  they will hook you  your mind turns to  i'm not kidding this game is also  and is beautifully done br br to keep this spoiler free i have to keep my mouth shut about details but please try this game it'll be worth it br br story 9 9 action 10 1 it's that good  10 attention  10 average 10\n",
            "\n",
            "Review is positive\n",
            "\n",
            "Review : 5\n",
            " i'm absolutely disgusted this movie isn't being sold all who love this movie should email disney and increase the demand for it they'd eventually have to sell it then i'd buy copies for everybody i know everything and everybody in this movie did a good job and i haven't figured out why disney hasn't put this movie on dvd or on vhs in rental stores at least i haven't seen any copies this is a wicked good movie and should be seen by all the kids in the new generation don't get to see it and i think they should it should at least be put back on the channel this movie doesn't deserve a cheap  it deserves the real thing i'm them now this movie will be on dvd\n",
            "\n",
            "Review is positive\n"
          ],
          "name": "stdout"
        }
      ]
    }
  ]
}